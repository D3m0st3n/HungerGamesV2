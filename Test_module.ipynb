{
 "cells": [
  {
   "cell_type": "code",
   "execution_count": 1,
   "metadata": {},
   "outputs": [],
   "source": [
    "import numpy as np\n",
    "import matplotlib.pyplot as plt\n",
    "import matplotlib.patches as mpatches\n",
    "from mpl_toolkits.mplot3d import Axes3D\n",
    "from arena2D import *\n",
    "from Utility import *"
   ]
  },
  {
   "cell_type": "code",
   "execution_count": 2,
   "metadata": {},
   "outputs": [
    {
     "name": "stdout",
     "output_type": "stream",
     "text": [
      "Entraces Built\n",
      "Angle of wall  0 : 0.0 0.0\n",
      "Wall coord : [5.2 5.2] [10.2  5.2]\n",
      "Entraces Built\n",
      "Angle of wall  1 : 72.0 72.0\n",
      "Wall coord : [5.2 5.2] [6.74508497 9.95528258]\n",
      "Entraces Built\n",
      "Angle of wall  2 : 144.0 144.0\n",
      "Wall coord : [5.2 5.2] [1.15491503 8.13892626]\n",
      "Entraces Built\n",
      "Angle of wall  3 : 216.0 216.0\n",
      "Wall coord : [5.2 5.2] [1.15491503 2.26107374]\n",
      "Entraces Built\n",
      "Angle of wall  4 : 288.0 288.0\n",
      "Wall coord : [5.2 5.2] [6.74508497 0.44471742]\n",
      "Walls Built\n"
     ]
    }
   ],
   "source": [
    "center = [5.2, 5.2]\n",
    "radius = 5\n",
    "time = 0\n",
    "CA = CircleArena(center, radius, nb_rooms=5, nb_ent=1, nb_flies=1, starting_room=1)"
   ]
  },
  {
   "cell_type": "code",
   "execution_count": 6,
   "metadata": {},
   "outputs": [
    {
     "name": "stdout",
     "output_type": "stream",
     "text": [
      "3.75 3.75\n"
     ]
    }
   ],
   "source": [
    "a = np.array([0, 1.75])\n",
    "a1 = np.array([0, 0])\n",
    "a2 = np.array([0, 2])\n",
    "b = np.array([-3.75, 3.5])\n",
    "print(np.linalg.norm(np.cross(a, b)) / np.linalg.norm(a), DistanceToSegment(a1, a2, b))\n"
   ]
  },
  {
   "cell_type": "code",
   "execution_count": 26,
   "metadata": {},
   "outputs": [
    {
     "name": "stdout",
     "output_type": "stream",
     "text": [
      "False\n"
     ]
    },
    {
     "data": {
      "text/plain": [
       "0.00016334698282521624"
      ]
     },
     "execution_count": 26,
     "metadata": {},
     "output_type": "execute_result"
    }
   ],
   "source": [
    "p1 = np.array([5.2, 5.2])\n",
    "p2 = np.array([6.74508497, 9.95528258])\n",
    "p = np.array([6.5, 9.2004])\n",
    "print(onSegment_(p1, p2, p))\n",
    "DistanceToSegment(p1, p2, p)\n"
   ]
  },
  {
   "cell_type": "code",
   "execution_count": 4,
   "metadata": {},
   "outputs": [
    {
     "name": "stdout",
     "output_type": "stream",
     "text": [
      "0.793756889733879 4.205948168962617 4.999704991296987\n",
      "6.739950819678597e-08\n",
      "False\n"
     ]
    },
    {
     "data": {
      "text/plain": [
       "0.000300017701566793"
      ]
     },
     "execution_count": 4,
     "metadata": {},
     "output_type": "execute_result"
    }
   ],
   "source": [
    "p1 = np.array([5.2, 5.2])\n",
    "p2 = np.array([6.745, 9.955])\n",
    "p = np.array([6.5, 9.200])\n",
    "u = p2 - p1\n",
    "v = p2 - p\n",
    "w = p - p1\n",
    "print(np.linalg.norm(v), np.linalg.norm(w),  np.linalg.norm(u))\n",
    "print(np.linalg.norm(v) + np.linalg.norm(w) -  np.linalg.norm(u))\n",
    "print(onSegment_(p1, p2, p))\n",
    "DistanceToSement(p1, p2, p)"
   ]
  },
  {
   "cell_type": "code",
   "execution_count": 5,
   "metadata": {},
   "outputs": [
    {
     "name": "stderr",
     "output_type": "stream",
     "text": [
      "/var/folders/q5/bd4t5bjx1vn46xp_54qz6hv80000gs/T/ipykernel_56465/3841190817.py:1: VisibleDeprecationWarning: Creating an ndarray from ragged nested sequences (which is a list-or-tuple of lists-or-tuples-or ndarrays with different lengths or shapes) is deprecated. If you meant to do this, you must specify 'dtype=object' when creating the ndarray.\n",
      "  a = np.array([[0, 1, 2, 0, 2, 2], [0, 0, 0, 0, 2]])\n"
     ]
    },
    {
     "ename": "TypeError",
     "evalue": "'>' not supported between instances of 'list' and 'int'",
     "output_type": "error",
     "traceback": [
      "\u001b[0;31m---------------------------------------------------------------------------\u001b[0m",
      "\u001b[0;31mTypeError\u001b[0m                                 Traceback (most recent call last)",
      "\u001b[0;32m/var/folders/q5/bd4t5bjx1vn46xp_54qz6hv80000gs/T/ipykernel_56465/3841190817.py\u001b[0m in \u001b[0;36m<module>\u001b[0;34m\u001b[0m\n\u001b[1;32m      1\u001b[0m \u001b[0ma\u001b[0m \u001b[0;34m=\u001b[0m \u001b[0mnp\u001b[0m\u001b[0;34m.\u001b[0m\u001b[0marray\u001b[0m\u001b[0;34m(\u001b[0m\u001b[0;34m[\u001b[0m\u001b[0;34m[\u001b[0m\u001b[0;36m0\u001b[0m\u001b[0;34m,\u001b[0m \u001b[0;36m1\u001b[0m\u001b[0;34m,\u001b[0m \u001b[0;36m2\u001b[0m\u001b[0;34m,\u001b[0m \u001b[0;36m0\u001b[0m\u001b[0;34m,\u001b[0m \u001b[0;36m2\u001b[0m\u001b[0;34m,\u001b[0m \u001b[0;36m2\u001b[0m\u001b[0;34m]\u001b[0m\u001b[0;34m,\u001b[0m \u001b[0;34m[\u001b[0m\u001b[0;36m0\u001b[0m\u001b[0;34m,\u001b[0m \u001b[0;36m0\u001b[0m\u001b[0;34m,\u001b[0m \u001b[0;36m0\u001b[0m\u001b[0;34m,\u001b[0m \u001b[0;36m0\u001b[0m\u001b[0;34m,\u001b[0m \u001b[0;36m2\u001b[0m\u001b[0;34m]\u001b[0m\u001b[0;34m]\u001b[0m\u001b[0;34m)\u001b[0m\u001b[0;34m\u001b[0m\u001b[0;34m\u001b[0m\u001b[0m\n\u001b[0;32m----> 2\u001b[0;31m \u001b[0mnp\u001b[0m\u001b[0;34m.\u001b[0m\u001b[0margwhere\u001b[0m\u001b[0;34m(\u001b[0m\u001b[0ma\u001b[0m \u001b[0;34m>\u001b[0m\u001b[0;36m1\u001b[0m\u001b[0;34m)\u001b[0m\u001b[0;34m.\u001b[0m\u001b[0mtolist\u001b[0m\u001b[0;34m(\u001b[0m\u001b[0;34m)\u001b[0m\u001b[0;34m\u001b[0m\u001b[0;34m\u001b[0m\u001b[0m\n\u001b[0m",
      "\u001b[0;31mTypeError\u001b[0m: '>' not supported between instances of 'list' and 'int'"
     ]
    }
   ],
   "source": [
    "a = np.array([[0, 1, 2, 0, 2, 2], [0, 0, 0, 0, 2]])\n",
    "np.argwhere(a >1).tolist()"
   ]
  },
  {
   "cell_type": "code",
   "execution_count": 4,
   "metadata": {},
   "outputs": [],
   "source": [
    "position = np.array([5.2   ,     8.18914765])\n",
    "aim = np.array([3.54943258 ,  8.08883307])"
   ]
  },
  {
   "cell_type": "code",
   "execution_count": 5,
   "metadata": {},
   "outputs": [
    {
     "name": "stdout",
     "output_type": "stream",
     "text": [
      "working test\n",
      "Wall angle  90.0\n",
      "[5.2 5.2] [ 5.2 10.2]\n",
      "Intersect  True\n"
     ]
    },
    {
     "data": {
      "text/plain": [
       "True"
      ]
     },
     "execution_count": 5,
     "metadata": {},
     "output_type": "execute_result"
    }
   ],
   "source": [
    "CA.allowMove(position, aim)"
   ]
  },
  {
   "cell_type": "code",
   "execution_count": 85,
   "metadata": {},
   "outputs": [],
   "source": [
    "p1 = np.array([5.2   ,     7.06822753])\n",
    "p2 = np.array([5.2   ,     7.46822753])\n",
    "p3 = np.array([5.20461432 ,7.18532863])\n",
    "p4 = np.array([5.18441891 ,7.18180793])"
   ]
  },
  {
   "cell_type": "code",
   "execution_count": 88,
   "metadata": {},
   "outputs": [
    {
     "name": "stdout",
     "output_type": "stream",
     "text": [
      "-0.006232436000000169 0.0018457279999999814 -0.002348659089527045 0.005729504910473105\n",
      "True\n"
     ]
    }
   ],
   "source": [
    "d1 = np.cross((p4 - p1), (p2 - p1))\n",
    "d2 = np.cross((p3 - p1), (p2 - p1))\n",
    "d3 = np.cross((p1 - p3), (p4 - p3))\n",
    "d4 = np.cross((p2 - p3), (p4 - p3))\n",
    "print(d1, d2, d3, d4)\n",
    "if ((d1 < 0 and d2 > 0) or (d1 > 0 and d2 < 0)) and ((d3 > 0 and d4 < 0) or (d3 < 0 and d4 > 0 )):\n",
    "    print(True)\n",
    "\n",
    "elif d1 == 0 and onSegment(p3, p4, p1):\n",
    "    print(True)\n",
    "elif d2 == 0 and onSegment(p3, p4, p2):\n",
    "    print(True)\n",
    "elif d3 == 0 and onSegment(p1, p2, p3):\n",
    "    print(True)\n",
    "elif d4 == 0 and onSegment(p1, p2, p4):\n",
    "    print(True)\n",
    "else:\n",
    "    print(False)"
   ]
  },
  {
   "cell_type": "code",
   "execution_count": 14,
   "metadata": {},
   "outputs": [],
   "source": [
    "p = np.array([8.41890515, 5.19])\n",
    "p_d = np.double(p)\n",
    "p1 = np.array([8.32622472, 5.2       ])\n",
    "p2 = np.array([8.52622472, 5.2       ])"
   ]
  },
  {
   "cell_type": "code",
   "execution_count": 15,
   "metadata": {},
   "outputs": [
    {
     "name": "stdout",
     "output_type": "stream",
     "text": [
      "False\n"
     ]
    }
   ],
   "source": [
    "print(onSegment(p1, p2, p))"
   ]
  },
  {
   "cell_type": "code",
   "execution_count": 11,
   "metadata": {},
   "outputs": [
    {
     "data": {
      "text/plain": [
       "-1.8369701987210297e-16"
      ]
     },
     "execution_count": 11,
     "metadata": {},
     "output_type": "execute_result"
    }
   ],
   "source": [
    "np.cos(np.pi*3/2)"
   ]
  },
  {
   "cell_type": "code",
   "execution_count": 51,
   "metadata": {},
   "outputs": [
    {
     "name": "stdout",
     "output_type": "stream",
     "text": [
      "135.0 -0.7071067811865475\n"
     ]
    }
   ],
   "source": [
    "u = np.array([0, 1])\n",
    "v = np.array([1,-1])\n",
    "theta = np.arccos(np.dot(v, u)/ (np.linalg.norm(u) * np.linalg.norm(v)))\n",
    "print(theta * 180 / np.pi, np.dot(v, u) / (np.linalg.norm(u) * np.linalg.norm(v)))"
   ]
  },
  {
   "cell_type": "code",
   "execution_count": 46,
   "metadata": {},
   "outputs": [
    {
     "data": {
      "text/plain": [
       "-0.9998476951563913"
      ]
     },
     "execution_count": 46,
     "metadata": {},
     "output_type": "execute_result"
    }
   ],
   "source": [
    "np.cos(179 * np.pi / 180)"
   ]
  },
  {
   "cell_type": "code",
   "execution_count": 41,
   "metadata": {},
   "outputs": [
    {
     "name": "stderr",
     "output_type": "stream",
     "text": [
      "/var/folders/q5/bd4t5bjx1vn46xp_54qz6hv80000gs/T/ipykernel_63689/2243784760.py:1: RuntimeWarning: invalid value encountered in arccos\n",
      "  np.arccos(90)\n"
     ]
    },
    {
     "data": {
      "text/plain": [
       "nan"
      ]
     },
     "execution_count": 41,
     "metadata": {},
     "output_type": "execute_result"
    }
   ],
   "source": [
    "np.arccos(90)"
   ]
  },
  {
   "cell_type": "code",
   "execution_count": null,
   "metadata": {},
   "outputs": [],
   "source": []
  }
 ],
 "metadata": {
  "interpreter": {
   "hash": "bf40ea5d230f20095942c74f8fecb97b52368ff07054317cf847cad9258a4f83"
  },
  "kernelspec": {
   "display_name": "Python 3.9.7 ('base')",
   "language": "python",
   "name": "python3"
  },
  "language_info": {
   "codemirror_mode": {
    "name": "ipython",
    "version": 3
   },
   "file_extension": ".py",
   "mimetype": "text/x-python",
   "name": "python",
   "nbconvert_exporter": "python",
   "pygments_lexer": "ipython3",
   "version": "3.9.7"
  },
  "orig_nbformat": 4
 },
 "nbformat": 4,
 "nbformat_minor": 2
}
